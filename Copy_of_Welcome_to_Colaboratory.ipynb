{
  "cells": [
    {
      "cell_type": "markdown",
      "metadata": {
        "id": "view-in-github",
        "colab_type": "text"
      },
      "source": [
        "<a href=\"https://colab.research.google.com/github/Pranayd31/assignment-guvi/blob/main/Copy_of_Welcome_to_Colaboratory.ipynb\" target=\"_parent\"><img src=\"https://colab.research.google.com/assets/colab-badge.svg\" alt=\"Open In Colab\"/></a>"
      ]
    },
    {
      "cell_type": "code",
      "source": [
        "import math\n",
        "n1 = float(input(\"Enter first number: \"))\n",
        "\n",
        "print(\"Operation: +, -, *, /\",\"sqrt\",\"^\",\"1/x\")\n",
        "select = input(\"Select operations: \")\n",
        "if select == \"+\":\n",
        "    n2 = float(input(\"Enter second number: \"))\n",
        "    print(n1, \"+\", n2, \"=\", n1+n2)\n",
        "elif select == \"-\":\n",
        "    n2 = float(input(\"Enter second number: \"))\n",
        "    print(n1, \"-\", n2, \"=\", n1-n2)\n",
        "elif select == \"*\":\n",
        "    n2 = float(input(\"Enter second number: \"))\n",
        "    print(n1, \"*\", n2, \"=\", n1*n2)\n",
        "elif select == \"/\":\n",
        "    n2 = float(input(\"Enter second number: \"))\n",
        "    print(n1, \"/\", n2, \"=\", n1/n2)\n",
        "elif select==\"sqrt\":\n",
        "    print(math.sqrt(n1))\n",
        "elif select==\"^\":\n",
        "    power=float(input())\n",
        "    print(n1,\"the power\",power,\"is\",n1**power)\n",
        "elif select==\"1/x\":\n",
        "    x=int(input())\n",
        "    print(n1**(1/x))\n",
        " \n",
        "\n",
        "else:\n",
        "    print(\"Invalid input\")"
      ],
      "metadata": {
        "id": "ZraDqFxrdN3R"
      },
      "execution_count": null,
      "outputs": []
    }
  ],
  "metadata": {
    "colab": {
      "collapsed_sections": [],
      "name": "Copy of Welcome to Colaboratory",
      "toc_visible": true,
      "provenance": [],
      "include_colab_link": true
    },
    "kernelspec": {
      "display_name": "Python 3",
      "name": "python3"
    }
  },
  "nbformat": 4,
  "nbformat_minor": 0
}